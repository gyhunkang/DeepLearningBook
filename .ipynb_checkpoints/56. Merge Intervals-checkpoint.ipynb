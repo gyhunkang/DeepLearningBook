{
 "cells": [
  {
   "cell_type": "code",
   "execution_count": 9,
   "metadata": {},
   "outputs": [],
   "source": [
    "def merge(self, intervals):\n",
    "    out = []\n",
    "    for i in sorted(intervals, key=lambda i: i.start):\n",
    "        if out and i.start <= out[-1].end:\n",
    "            out[-1].end = max(out[-1].end, i.end)\n",
    "        else:\n",
    "            out += i,\n",
    "    return out"
   ]
  }
 ],
 "metadata": {
  "kernelspec": {
   "display_name": "Python 3",
   "language": "python",
   "name": "python3"
  },
  "language_info": {
   "codemirror_mode": {
    "name": "ipython",
    "version": 3
   },
   "file_extension": ".py",
   "mimetype": "text/x-python",
   "name": "python",
   "nbconvert_exporter": "python",
   "pygments_lexer": "ipython3",
   "version": "3.6.6"
  }
 },
 "nbformat": 4,
 "nbformat_minor": 2
}
