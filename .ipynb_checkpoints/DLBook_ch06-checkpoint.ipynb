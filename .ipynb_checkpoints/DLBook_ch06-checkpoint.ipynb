{
 "cells": [
  {
   "cell_type": "markdown",
   "metadata": {},
   "source": [
    "## Chapter 6"
   ]
  },
  {
   "cell_type": "markdown",
   "metadata": {},
   "source": [
    "#### Deep Feed Forward Networks aka FFNN, MLP"
   ]
  },
  {
   "cell_type": "markdown",
   "metadata": {},
   "source": [
    "Depth = Number of Layers"
   ]
  },
  {
   "cell_type": "markdown",
   "metadata": {},
   "source": [
    "Width = Number of Neurons in a Layer"
   ]
  },
  {
   "cell_type": "markdown",
   "metadata": {},
   "source": [
    "output layer = Final layer"
   ]
  },
  {
   "cell_type": "markdown",
   "metadata": {},
   "source": [
    "Training Data specify directly what the output layer must do, but not what each hidden layers do - the learning algorithm must decide how to use these layers"
   ]
  },
  {
   "cell_type": "markdown",
   "metadata": {},
   "source": [
    "\"feedforward networks as function approximation machines that are designed to\n",
    "achieve statistical generalization\""
   ]
  },
  {
   "cell_type": "markdown",
   "metadata": {},
   "source": [
    "### Linear Models"
   ]
  },
  {
   "cell_type": "markdown",
   "metadata": {},
   "source": [
    "Linear models are appealing because they may be fit efficiently\n",
    "and reliably, either in closed form or with convex optimization."
   ]
  },
  {
   "cell_type": "markdown",
   "metadata": {},
   "source": [
    "To extend linear models to represent nonlinear functions of x --> apply Kernel Trick"
   ]
  },
  {
   "cell_type": "markdown",
   "metadata": {},
   "source": [
    "How to choose the mapping $\\phi$ that provides a new representation for x"
   ]
  },
  {
   "cell_type": "markdown",
   "metadata": {},
   "source": [
    "1. Use a very generic $\\phi$ - like RBF Kernel, but generalizes poorly, and cannot solve advanced problems"
   ]
  },
  {
   "cell_type": "markdown",
   "metadata": {},
   "source": [
    "2. Manually handcraft $\\phi$"
   ]
  },
  {
   "cell_type": "markdown",
   "metadata": {},
   "source": [
    "3. Use Deep Learning to learn $\\phi$ \n",
    "<br>\n",
    "$ y = f(x;\\theta,w) = \\phi(x;\\theta)w $\n",
    "<br>\n",
    "can have advantage of both 1 and 2\n",
    "<br>\n",
    "#1. generic - choose a very broad family $\\phi(x;\\theta)$\n",
    "<br>\n",
    "#2. hand-craft - find right general function family"
   ]
  },
  {
   "cell_type": "markdown",
   "metadata": {},
   "source": [
    "## 6.1 Example: Learning XOR"
   ]
  },
  {
   "cell_type": "markdown",
   "metadata": {},
   "source": [
    "Linear model cannot represent XOR"
   ]
  },
  {
   "cell_type": "markdown",
   "metadata": {},
   "source": [
    "Simple FFNN: $ h = f^{(1)}(x; W,c) $\n",
    "<br>\n",
    "$ y = f^({2)}(h;w,b) $\n",
    "<br>\n",
    "$ f(x;W,c,w,b) = f^{(2)}(f^{(1)}(x)) $"
   ]
  },
  {
   "cell_type": "markdown",
   "metadata": {},
   "source": [
    "affine transformation from a vector $x$ to a vector $h$\n",
    "<br>\n",
    "activation function $g$ - element-wise activation"
   ]
  },
  {
   "cell_type": "markdown",
   "metadata": {},
   "source": [
    "$\n",
    "    f(x;W,c,w,b) = w^{T}max[0,W^{T}x+c] + b\n",
    "$"
   ]
  },
  {
   "cell_type": "markdown",
   "metadata": {},
   "source": [
    "Non-linear activation function (ReLU) mapps both $ x = [1,0]^{T} $ and $x=[0,1]^{T} $ to a single point in feature space, $ h = [1,0]^{T} $"
   ]
  },
  {
   "cell_type": "markdown",
   "metadata": {},
   "source": [
    "## 6.2 Gradient-based Learning"
   ]
  },
  {
   "cell_type": "markdown",
   "metadata": {},
   "source": [
    "Non-linearity of a NN causes most interesting loss functions to become non-convex"
   ]
  },
  {
   "cell_type": "markdown",
   "metadata": {},
   "source": [
    "Stochastic Gradient Descent applied to non-convex loss functions has no Convergence guarantee, and is sensitive to the values of the initial parameters"
   ]
  },
  {
   "cell_type": "markdown",
   "metadata": {},
   "source": [
    "### 6.2.1 Cost Functions"
   ]
  },
  {
   "cell_type": "markdown",
   "metadata": {},
   "source": [
    "1. $\\textbf{ Negative Log Likelihood aka Cross Entropy between Training Data and Model Distribution}$\n",
    "<br>\n",
    "$ J(\\theta) = -E_{x,y ~ p_{data}} logp_{model}(y|x) $\n",
    "<br>\n",
    "Advantage of this approach is specifying a model $p(y|x)$ automatically determines a cost function log $p(y|x)$\n",
    "<br>\n",
    "Also, the log undoes the exponent of some output units and prevent saturating functions.\n",
    "<br>\n",
    "1. $\\textbf{ Functional }$\n",
    "<br>\n",
    "Instead of learning a full probability distribution $p(y|x;\\theta)$ we often want to learn just one conditional statistic of $y$ given $x$\n",
    "<br>\n",
    "A Functional is a mapping from functions to real numbers.\n",
    "<br>\n",
    "We can think of learning as choosing a function rather than merely choosing a set of parameters\n",
    "<br>\n",
    "For example, we can design the cost functional to have its minimum lie on the function that maps $x$ to the expected value of $y$ given $x$.\n",
    "<br>\n",
    "Unfortunately, mean squared error and mean absolute error often lead to poor\n",
    "results when used with gradient-based optimization."
   ]
  },
  {
   "cell_type": "code",
   "execution_count": 13,
   "metadata": {},
   "outputs": [],
   "source": [
    "import numpy as np\n",
    "import matplotlib.pyplot as plt\n",
    "%matplotlib inline\n",
    "%config InlineBackend.figure_format = 'retina'\n",
    "\n",
    "x = np.linspace(-100,100, 10000)"
   ]
  },
  {
   "cell_type": "code",
   "execution_count": 2,
   "metadata": {},
   "outputs": [],
   "source": [
    "def softmax(x):\n",
    "    \"\"\"Compute softmax values for each sets of scores in x.\"\"\"\n",
    "    e_x = np.exp(x - np.max(x))\n",
    "    return e_x / e_x.sum()\n",
    "\n",
    "for i in x:\n",
    "    softmax_i = softmax(x)"
   ]
  },
  {
   "cell_type": "code",
   "execution_count": 11,
   "metadata": {},
   "outputs": [
    {
     "data": {
      "text/plain": [
       "Text(0.5,1,'Softmax Function')"
      ]
     },
     "execution_count": 11,
     "metadata": {},
     "output_type": "execute_result"
    },
    {
     "data": {
      "image/png": "[encoded data removed]",
      "text/plain": [
       "<Figure size 432x288 with 1 Axes>"
      ]
     },
     "metadata": {},
     "output_type": "display_data"
    }
   ],
   "source": [
    "plt.plot(x, softmax_i)\n",
    "plt.title('Softmax Function')"
   ]
  },
  {
   "cell_type": "code",
   "execution_count": 8,
   "metadata": {},
   "outputs": [],
   "source": [
    "def sigmoid(x):\n",
    "      return 1 / (1 + np.exp(-x))\n",
    "for i in x:\n",
    "    sigmoid_i = sigmoid(x)"
   ]
  },
  {
   "cell_type": "code",
   "execution_count": 12,
   "metadata": {},
   "outputs": [
    {
     "data": {
      "text/plain": [
       "Text(0.5,1,'Sigmoid Function')"
      ]
     },
     "execution_count": 12,
     "metadata": {},
     "output_type": "execute_result"
    },
    {
     "data": {
      "image/png": "[encoded data removed]",
      "text/plain": [
       "<Figure size 432x288 with 1 Axes>"
      ]
     },
     "metadata": {},
     "output_type": "display_data"
    }
   ],
   "source": [
    "plt.plot(x, sigmoid_i)\n",
    "plt.title('Sigmoid Function')"
   ]
  },
  {
   "cell_type": "markdown",
   "metadata": {},
   "source": [
    "$\n",
    "    log\\,softmax(z)_i \\, = \\, z_i \\, - \\, log \\sum_{j}^{} exp(z_j)\n",
    "$"
   ]
  },
  {
   "cell_type": "markdown",
   "metadata": {},
   "source": [
    "First term cannot saturate, and the learning can proceed even when the second term becomes very small."
   ]
  },
  {
   "cell_type": "markdown",
   "metadata": {},
   "source": [
    "When maximizing Log-Likelihood, first term encourages $z_i$ to be pushed up"
   ]
  },
  {
   "cell_type": "markdown",
   "metadata": {},
   "source": [
    "While the second term encourages all of $z$ to be pushed down"
   ]
  },
  {
   "cell_type": "markdown",
   "metadata": {},
   "source": [
    "$log \\sum_{j}^{} exp(z_j)$ can be roughly approximated by $max_j\\,z_j$"
   ]
  },
  {
   "cell_type": "markdown",
   "metadata": {},
   "source": [
    " objective functions that do not use a log to\n",
    "undo the exp of the softmax fail to learn when the argument to the exp becomes\n",
    "very negative, causing the gradient to vanish. In particular, squared error is a\n",
    "poor loss function for softmax units, and can fail to train the model to change its\n",
    "output, even when the model makes highly confident incorrect predictions"
   ]
  },
  {
   "cell_type": "markdown",
   "metadata": {},
   "source": [
    "Softmax: At the\n",
    "extreme (when the difference between the maximal a i and the others is large in\n",
    "magnitude) it becomes a form of winner-take-all (one of the outputs is nearly 1\n",
    "and the others are nearly 0)."
   ]
  },
  {
   "cell_type": "markdown",
   "metadata": {},
   "source": [
    "Name:  The softmax function thus provides a “softened” version of the\n",
    "argmax "
   ]
  },
  {
   "cell_type": "markdown",
   "metadata": {},
   "source": [
    "In general, if we define a conditional distribution $p(y\\,|\\,x;\\,\\theta)$, the principle of maximum likelihood suggests we use $-log\\,p(y\\,|\\,x;\\,\\theta)$ as our cost function"
   ]
  },
  {
   "cell_type": "markdown",
   "metadata": {},
   "source": [
    "In general, we can think of the neural network as representing a function $f(x;\\theta)$"
   ]
  },
  {
   "cell_type": "markdown",
   "metadata": {},
   "source": [
    "$f(x;\\theta)\\,=\\,w$ provides the parameters for a distribution over $y$. "
   ]
  },
  {
   "cell_type": "markdown",
   "metadata": {},
   "source": [
    "Our loss function can then be interpreted as $-log\\,p(y;w(x))$"
   ]
  },
  {
   "cell_type": "markdown",
   "metadata": {},
   "source": [
    "### 6.4.1 Universal Approximation Properties and Depth"
   ]
  },
  {
   "cell_type": "markdown",
   "metadata": {},
   "source": [
    "#### Universal Approximation Theorem stats that:"
   ]
  },
  {
   "cell_type": "markdown",
   "metadata": {},
   "source": [
    "A FFNN with a Linear output layer and at least one Hidden Layer with any 'squashing' activation function can approximate any Borel measurable function from one finite-dimensional space to another with any desired non-zero amount of error, provided that the network is given enough hidden units"
   ]
  },
  {
   "cell_type": "markdown",
   "metadata": {},
   "source": [
    "Universal approximation theorems have been proven for a wide class of activation functions, which includes ReLU."
   ]
  },
  {
   "cell_type": "markdown",
   "metadata": {},
   "source": [
    "UAT guarantees that a large MLP will be able to <em>represent</em> this function."
   ]
  },
  {
   "cell_type": "markdown",
   "metadata": {},
   "source": [
    "However, we are not guaranteed that the training algorithm will be able to <em>learn</em> that function"
   ]
  },
  {
   "cell_type": "markdown",
   "metadata": {},
   "source": [
    "Learning can fail for two different reasons\n",
    "1. optimization algorithm may not be able to find the values of parameters that corresponds to the desired function.\n",
    "1. training algorithm might choose the wrong function due to overfitting."
   ]
  },
  {
   "cell_type": "markdown",
   "metadata": {},
   "source": [
    "### 6.5 Back-Propagation and Other Differentiation Algorithms"
   ]
  },
  {
   "cell_type": "markdown",
   "metadata": {},
   "source": [
    "Backprop refers only to the Method of computing the gradient"
   ]
  },
  {
   "cell_type": "markdown",
   "metadata": {},
   "source": [
    "Actual learning is performed by SGD, which uses the gradients computed by backprop"
   ]
  },
  {
   "cell_type": "markdown",
   "metadata": {},
   "source": [
    "#### 6.5.1 Computational Graphs"
   ]
  },
  {
   "cell_type": "markdown",
   "metadata": {},
   "source": [
    "Node = Variable (scalar, vector, matrix, tensor)"
   ]
  },
  {
   "cell_type": "markdown",
   "metadata": {},
   "source": [
    "Operation = Function of one or more Variables"
   ]
  },
  {
   "cell_type": "markdown",
   "metadata": {},
   "source": [
    "#### 6.5.2 Chain Rule of Calculus"
   ]
  },
  {
   "cell_type": "markdown",
   "metadata": {},
   "source": [
    "backprop is just multiplying Jacobians by gradients"
   ]
  },
  {
   "cell_type": "markdown",
   "metadata": {},
   "source": [
    "#### 6.5.5 Symbol-to-Symbol Derivatives"
   ]
  },
  {
   "cell_type": "markdown",
   "metadata": {},
   "source": [
    "<strong><em>Symbol-to-Number</em> differentiation: </strong> <br>\n",
    "Input: computational graph + set of numerical values<br>\n",
    "Output: set of numerical values describing the gradient at those input values <br>\n",
    "used by: Torch, Caffe"
   ]
  },
  {
   "cell_type": "markdown",
   "metadata": {},
   "source": [
    "<strong> <em> Symbol-to-Symbol </em> differentiation: </strong><br>\n",
    "Input: computational graph + additional nodes to the graph <br>\n",
    "Output: Symbolic description of the desired derivatives <br>\n",
    "Used by: Theano, TensorFlow <br>\n",
    "Advantage: <br>\n",
    "- derivatives are described in the same language as the original expression<br>\n",
    "- Any subset of the graph may then be evaluated using specific numerical values at a later time"
   ]
  },
  {
   "cell_type": "markdown",
   "metadata": {},
   "source": [
    "#### 6.5.6 General Back-Propagation"
   ]
  },
  {
   "cell_type": "markdown",
   "metadata": {},
   "source": [
    "Computing a gradient in a graph with n nodes will never execute more than $ O ( n^2 )$ operations or store the output of more than $O ( n^2 )$ operations"
   ]
  },
  {
   "cell_type": "markdown",
   "metadata": {},
   "source": [
    "The back-propagation algorithm adds one Jacobian-vector product, which should be expressed with $O (1)$ nodes, per edge in the original graph. Because the computational graph is a directed acyclic graph it has at most $O ( n^2 )$ edges."
   ]
  },
  {
   "cell_type": "markdown",
   "metadata": {},
   "source": [
    "Most neural network cost functions are roughly chain-structured, causing back-propagation to have $O ( n )$ cost"
   ]
  },
  {
   "cell_type": "markdown",
   "metadata": {},
   "source": [
    "<em><strong> dynamic programming </strong></em> <br>\n",
    "Each node in the graph has a corresponding slot in a table to store the gradient for that node. <br>\n",
    "By filling in these table entries in order, back-propagation avoids repeating many common subexpressions. This table-filling strategy is sometimes called <strong><em> dynamic programming </em></strong>"
   ]
  },
  {
   "cell_type": "markdown",
   "metadata": {},
   "source": [
    "#### 6.5.8 Compications"
   ]
  },
  {
   "cell_type": "markdown",
   "metadata": {},
   "source": [
    "1. Ouput may be more than a single Tensor\n",
    "1. Memory consumption for backprop - need to maintain a buffer\n",
    "1. various data types - float32, float64, int, etc.\n",
    "1. undefined gradients"
   ]
  },
  {
   "cell_type": "markdown",
   "metadata": {},
   "source": [
    "#### 6.5.9 Differentiation outside the Deep Learning Community"
   ]
  },
  {
   "cell_type": "markdown",
   "metadata": {},
   "source": [
    "Automatic Differentiation - computing derivatives algorithmically <br>\n",
    "backprop - a special case of a broader class of techniques called <strong> reverse mode accumulation </strong> <br>\n",
    "\n"
   ]
  },
  {
   "cell_type": "markdown",
   "metadata": {},
   "source": [
    "When forward graph $G$ has a single output node <br>\n",
    "and each partial derivative $\\frac{\\partial u^{(i)}}{\\partial u^{(j)}}$ can be computed with a constant amount of computation, <br>\n",
    "backprop guarantees that # of computations for backprop is same as for forward prop <br>\n",
    "Overall computation is therefore $ O(# edges)$"
   ]
  },
  {
   "cell_type": "markdown",
   "metadata": {},
   "source": [
    "Theano and TensorFlow use heuristics based on matching known simplification patterns in order to simplify the graph"
   ]
  },
  {
   "cell_type": "markdown",
   "metadata": {},
   "source": [
    "When the # of outputs of graph is LARGER than the number of inputs, it may be preferable to use <strong>forward mode accumulation</strong> <br>\n",
    "Relationship between forward mode and backward mode is analogous to the relationship between left-multiplying vs. right-multiplying a sequence of matrices such as <br>\n",
    "<strong><center>ABCD</center></strong>"
   ]
  },
  {
   "cell_type": "markdown",
   "metadata": {},
   "source": [
    "#### 6.5.10 Higher-Order Derivatives"
   ]
  },
  {
   "cell_type": "markdown",
   "metadata": {},
   "source": [
    "if we have a function $f : {\\mathbb{R}^{n}} \\rightarrow \\mathbb{R} $, then the Hessian matrix is of size $n$ x $n$ <br>\n",
    "In DL, $n$ will be # of parameters, which could easily number in the Billions. <br>\n",
    "The entire Hessian matrix is thus infeasible to even represent"
   ]
  },
  {
   "cell_type": "markdown",
   "metadata": {},
   "source": [
    "Instead of explicitly computing the Hessian, DL approach is to use <strong>Krylov methods</strong>. <br>\n",
    "It approximately inverts a matrix or approximates eigendecomposition without using any operation other than matrix-vector products <br>\n"
   ]
  },
  {
   "cell_type": "markdown",
   "metadata": {},
   "source": [
    "### 6.6 Historical Notes"
   ]
  },
  {
   "cell_type": "markdown",
   "metadata": {},
   "source": [
    "<strong>Chain Rule</strong> - 17c (Leibniz, L'Hopital)"
   ]
  },
  {
   "cell_type": "markdown",
   "metadata": {},
   "source": [
    "<strong>Gradient Descent</strong> - 19c (Cauchy)"
   ]
  },
  {
   "cell_type": "markdown",
   "metadata": {},
   "source": [
    "<strong>Chain rule based on DP, ANNs, Connectionism</strong> - 20c (Hinton, Rumelhart)"
   ]
  },
  {
   "cell_type": "markdown",
   "metadata": {},
   "source": [
    "<strong>DL Renaissance</strong> - 2006"
   ]
  },
  {
   "cell_type": "markdown",
   "metadata": {},
   "source": [
    "1. Larger datasets\n",
    "1. Powerful computers, better S/W infrastructure\n",
    "1. MSE $\\rightarrow$ cross-entropy loss + sigmoid/softmax outputs\n",
    "1. Sigmoid $\\rightarrow$ ReLU hidden units\n"
   ]
  },
  {
   "cell_type": "markdown",
   "metadata": {},
   "source": [
    "<strong>ReLU</strong> - motivated from biological considerations \n",
    "1. For some inputs, biological neurons are completely active\n",
    "1. For some inputs, a biological neuron's output is proportional to its input\n",
    "1. Most of the time, biological neurons operate in the regime where they are inactive (ie. they should have <strong>sparse activations</strong>"
   ]
  },
  {
   "cell_type": "markdown",
   "metadata": {},
   "source": []
  },
  {
   "cell_type": "markdown",
   "metadata": {},
   "source": []
  },
  {
   "cell_type": "markdown",
   "metadata": {},
   "source": []
  },
  {
   "cell_type": "markdown",
   "metadata": {},
   "source": []
  },
  {
   "cell_type": "markdown",
   "metadata": {},
   "source": []
  },
  {
   "cell_type": "markdown",
   "metadata": {},
   "source": []
  },
  {
   "cell_type": "markdown",
   "metadata": {},
   "source": []
  }
 ],
 "metadata": {
  "kernelspec": {
   "display_name": "Python 3",
   "language": "python",
   "name": "python3"
  },
  "language_info": {
   "codemirror_mode": {
    "name": "ipython",
    "version": 3
   },
   "file_extension": ".py",
   "mimetype": "text/x-python",
   "name": "python",
   "nbconvert_exporter": "python",
   "pygments_lexer": "ipython3",
   "version": "3.6.6"
  }
 },
 "nbformat": 4,
 "nbformat_minor": 2
}
